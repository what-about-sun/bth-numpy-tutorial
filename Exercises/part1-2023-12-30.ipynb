{
 "cells": [
  {
   "cell_type": "markdown",
   "metadata": {},
   "source": [
    "# Exercises\n",
    "from https://github.com/rougier/numpy-tutorial?tab=readme-ov-file#id4"
   ]
  },
  {
   "cell_type": "code",
   "execution_count": 16,
   "metadata": {},
   "outputs": [],
   "source": [
    "import numpy as np\n",
    "import matplotlib.pyplot as plt"
   ]
  },
  {
   "cell_type": "code",
   "execution_count": 3,
   "metadata": {},
   "outputs": [],
   "source": [
    "# print(np.__version__)\n",
    "# np.__config__.show()"
   ]
  },
  {
   "cell_type": "code",
   "execution_count": 119,
   "metadata": {},
   "outputs": [],
   "source": [
    "def show_array2(Z):\n",
    "    Z = np.atleast_2d(Z)\n",
    "    rows,cols = Z.shape\n",
    "    fig = plt.figure(figsize=(cols/4.,rows/4.), dpi=172)\n",
    "    ax = plt.subplot(111)\n",
    "    plt.imshow(Z, cmap='bone_r', extent=[0,cols,0,rows],\n",
    "               vmin=0, vmax=max(1,Z.max()), interpolation='nearest',\n",
    "               origin='upper')\n",
    "    plt.xticks([]), plt.yticks([])\n",
    "    for pos in ['top', 'bottom', 'right', 'left']:\n",
    "        ax.spines[pos].set_edgecolor('k')\n",
    "        ax.spines[pos].set_alpha(.25)\n",
    "    print(Z)\n",
    "    plt.show()\n",
    "\n",
    "rows,cols = 5, 9"
   ]
  },
  {
   "cell_type": "markdown",
   "metadata": {},
   "source": [
    "Create a null vector of size 10"
   ]
  },
  {
   "cell_type": "code",
   "execution_count": 115,
   "metadata": {},
   "outputs": [
    {
     "name": "stdout",
     "output_type": "stream",
     "text": [
      "[0. 0. 0. 0. 0. 0. 0. 0. 0. 0.]\n"
     ]
    }
   ],
   "source": [
    "Z = np.zeros(10)\n",
    "print(Z)"
   ]
  },
  {
   "cell_type": "markdown",
   "metadata": {},
   "source": [
    "Create a null vector of size 10 but the fifth value which is 1"
   ]
  },
  {
   "cell_type": "code",
   "execution_count": 116,
   "metadata": {},
   "outputs": [
    {
     "name": "stdout",
     "output_type": "stream",
     "text": [
      "[0. 0. 0. 0. 1. 0. 0. 0. 0. 0.]\n"
     ]
    }
   ],
   "source": [
    "Z = np.zeros(10)\n",
    "Z[4] = 1\n",
    "print(Z)"
   ]
  },
  {
   "cell_type": "markdown",
   "metadata": {},
   "source": [
    "Create a vector with values ranging from 10 to 99"
   ]
  },
  {
   "cell_type": "code",
   "execution_count": 117,
   "metadata": {},
   "outputs": [
    {
     "name": "stdout",
     "output_type": "stream",
     "text": [
      "[10 11 12 13 14 15 16 17 18 19 20 21 22 23 24 25 26 27 28 29 30 31 32 33\n",
      " 34 35 36 37 38 39 40 41 42 43 44 45 46 47 48 49 50 51 52 53 54 55 56 57\n",
      " 58 59 60 61 62 63 64 65 66 67 68 69 70 71 72 73 74 75 76 77 78 79 80 81\n",
      " 82 83 84 85 86 87 88 89 90 91 92 93 94 95 96 97 98 99]\n"
     ]
    }
   ],
   "source": [
    "Z = 10 + np.arange(90)\n",
    "print(Z)"
   ]
  },
  {
   "cell_type": "markdown",
   "metadata": {},
   "source": [
    "Create a 3x3 matrix with values ranging from 0 to 8"
   ]
  },
  {
   "cell_type": "code",
   "execution_count": 120,
   "metadata": {},
   "outputs": [
    {
     "name": "stdout",
     "output_type": "stream",
     "text": [
      "[[0 1 2]\n",
      " [3 4 5]\n",
      " [6 7 8]]\n"
     ]
    },
    {
     "data": {
      "image/png": "[encoded data removed]",
      "text/plain": [
       "<Figure size 129x129 with 1 Axes>"
      ]
     },
     "metadata": {},
     "output_type": "display_data"
    }
   ],
   "source": [
    "Z = np.arange(9).reshape(3,3)\n",
    "show_array2(Z)"
   ]
  },
  {
   "cell_type": "markdown",
   "metadata": {},
   "source": [
    "Find indices of non-zero elements from [1,2,0,0,4,0]"
   ]
  },
  {
   "cell_type": "code",
   "execution_count": 121,
   "metadata": {},
   "outputs": [
    {
     "name": "stdout",
     "output_type": "stream",
     "text": [
      "(array([0, 1, 4], dtype=int64),)\n"
     ]
    }
   ],
   "source": [
    "print(np.nonzero([1,2,0,0,4,0]))"
   ]
  },
  {
   "cell_type": "markdown",
   "metadata": {},
   "source": [
    "Declare a 3x3 identity matrix"
   ]
  },
  {
   "cell_type": "code",
   "execution_count": 122,
   "metadata": {},
   "outputs": [
    {
     "name": "stdout",
     "output_type": "stream",
     "text": [
      "[[1. 0. 0.]\n",
      " [0. 1. 0.]\n",
      " [0. 0. 1.]]\n"
     ]
    },
    {
     "data": {
      "image/png": "[encoded data removed]",
      "text/plain": [
       "<Figure size 129x129 with 1 Axes>"
      ]
     },
     "metadata": {},
     "output_type": "display_data"
    }
   ],
   "source": [
    "Z = np.eye(3)\n",
    "show_array2(Z)"
   ]
  },
  {
   "cell_type": "markdown",
   "metadata": {},
   "source": [
    "Declare a 5x5 matrix with values 1,2,3,4 just below the diagonal"
   ]
  },
  {
   "cell_type": "code",
   "execution_count": 123,
   "metadata": {},
   "outputs": [
    {
     "name": "stdout",
     "output_type": "stream",
     "text": [
      "[[0 0 0 0 0]\n",
      " [1 0 0 0 0]\n",
      " [0 2 0 0 0]\n",
      " [0 0 3 0 0]\n",
      " [0 0 0 4 0]]\n"
     ]
    },
    {
     "data": {
      "image/png": "[encoded data removed]",
      "text/plain": [
       "<Figure size 215x215 with 1 Axes>"
      ]
     },
     "metadata": {},
     "output_type": "display_data"
    }
   ],
   "source": [
    "Z = np.diag(1+np.arange(4),k=-1)\n",
    "show_array2(Z)"
   ]
  },
  {
   "cell_type": "markdown",
   "metadata": {},
   "source": [
    "Declare a 10x10x10 array with random values"
   ]
  },
  {
   "cell_type": "code",
   "execution_count": 124,
   "metadata": {},
   "outputs": [
    {
     "name": "stdout",
     "output_type": "stream",
     "text": [
      "[[[0.93842647 0.31508364 0.50581924 0.21525881 0.3128303  0.91622515\n",
      "   0.7147409  0.39213587 0.54084826 0.71266863]\n",
      "  [0.24412277 0.57725977 0.25284311 0.02805031 0.30879619 0.38049403\n",
      "   0.70665612 0.10592213 0.53607831 0.39562832]\n",
      "  [0.98199821 0.4611177  0.88127733 0.02930409 0.74095134 0.06590689\n",
      "   0.16218067 0.28720195 0.78719222 0.88456468]\n",
      "  [0.60899893 0.78508872 0.85206415 0.35579846 0.55965337 0.68012881\n",
      "   0.24552736 0.90738341 0.73928086 0.42224758]\n",
      "  [0.56382931 0.46690436 0.77612856 0.11655307 0.46157264 0.77002923\n",
      "   0.56256546 0.29251908 0.36794742 0.39981211]\n",
      "  [0.05060393 0.88338197 0.06801679 0.87506561 0.66243887 0.27485362\n",
      "   0.30084407 0.84686457 0.85973768 0.89271648]\n",
      "  [0.67171407 0.64531083 0.54009706 0.85215044 0.31946789 0.41175235\n",
      "   0.76431595 0.67883091 0.54284464 0.16377492]\n",
      "  [0.96195351 0.80774886 0.43958798 0.71311705 0.5753244  0.93273994\n",
      "   0.52636812 0.09556977 0.98882452 0.65900732]\n",
      "  [0.84578505 0.44803236 0.6000939  0.92810422 0.95088227 0.34806999\n",
      "   0.8550806  0.29428015 0.55896402 0.79513244]\n",
      "  [0.43385281 0.97126144 0.35946868 0.48218469 0.03544954 0.5708964\n",
      "   0.21000003 0.15023326 0.13505515 0.01280949]]]\n"
     ]
    }
   ],
   "source": [
    "Z = np.random.random((10,10,10))\n",
    "print(Z[:1:])"
   ]
  },
  {
   "cell_type": "markdown",
   "metadata": {},
   "source": [
    "Declare a 8x8 matrix and fill it with a checkerboard pattern  \n",
    "Notice: Slice objects can be used in the construction in place of the `start:stop:step` notation. "
   ]
  },
  {
   "cell_type": "code",
   "execution_count": 125,
   "metadata": {},
   "outputs": [
    {
     "name": "stdout",
     "output_type": "stream",
     "text": [
      "[[0. 1. 0. 1. 0. 1. 0. 1.]\n",
      " [1. 0. 1. 0. 1. 0. 1. 0.]\n",
      " [0. 1. 0. 1. 0. 1. 0. 1.]\n",
      " [1. 0. 1. 0. 1. 0. 1. 0.]\n",
      " [0. 1. 0. 1. 0. 1. 0. 1.]\n",
      " [1. 0. 1. 0. 1. 0. 1. 0.]\n",
      " [0. 1. 0. 1. 0. 1. 0. 1.]\n",
      " [1. 0. 1. 0. 1. 0. 1. 0.]]\n"
     ]
    },
    {
     "data": {
      "image/png": "[encoded data removed]",
      "text/plain": [
       "<Figure size 344x344 with 1 Axes>"
      ]
     },
     "metadata": {},
     "output_type": "display_data"
    }
   ],
   "source": [
    "Z = np.zeros((8,8))\n",
    "Z[1::2,::2] = 1\n",
    "Z[::2,1::2] = 1\n",
    "show_array2(Z)"
   ]
  },
  {
   "cell_type": "markdown",
   "metadata": {},
   "source": [
    "Declare a 10x10 array with random values and find the minimum and maximum values"
   ]
  },
  {
   "cell_type": "code",
   "execution_count": 126,
   "metadata": {},
   "outputs": [
    {
     "name": "stdout",
     "output_type": "stream",
     "text": [
      "0.0004189947691863871 0.9985460147310768\n"
     ]
    }
   ],
   "source": [
    "Z = np.random.random((10,10,10))\n",
    "Zmin, Zmax = Z.min(), Z.max()\n",
    "print(Zmin, Zmax)"
   ]
  },
  {
   "cell_type": "markdown",
   "metadata": {},
   "source": [
    "Create a checkerboard 8x8 matrix using the tile function"
   ]
  },
  {
   "cell_type": "code",
   "execution_count": 127,
   "metadata": {},
   "outputs": [
    {
     "name": "stdout",
     "output_type": "stream",
     "text": [
      "[[0 1 0 1 0 1 0 1]\n",
      " [1 0 1 0 1 0 1 0]\n",
      " [0 1 0 1 0 1 0 1]\n",
      " [1 0 1 0 1 0 1 0]\n",
      " [0 1 0 1 0 1 0 1]\n",
      " [1 0 1 0 1 0 1 0]\n",
      " [0 1 0 1 0 1 0 1]\n",
      " [1 0 1 0 1 0 1 0]]\n"
     ]
    },
    {
     "data": {
      "image/png": "[encoded data removed]",
      "text/plain": [
       "<Figure size 344x344 with 1 Axes>"
      ]
     },
     "metadata": {},
     "output_type": "display_data"
    }
   ],
   "source": [
    "Z = np.tile( np.array([[0,1],[1,0]]), (4,4))\n",
    "show_array2(Z)"
   ]
  },
  {
   "cell_type": "markdown",
   "metadata": {},
   "source": [
    "Normalize a 5x5 random matrix (between 0 and 1)  \n",
    "Notice: Min-max normalization is one of the most common ways to normalize data. For every feature, the minimum value of that feature gets transformed into a 0, the maximum value gets transformed into a 1, and every other value gets transformed into a decimal between 0 and 1."
   ]
  },
  {
   "cell_type": "code",
   "execution_count": 130,
   "metadata": {},
   "outputs": [
    {
     "name": "stdout",
     "output_type": "stream",
     "text": [
      "[[0.30425487 0.30399842 0.43196127 0.22473049 0.84078765]\n",
      " [0.45651207 0.32794429 0.46877615 0.19581957 0.89937303]\n",
      " [0.65171088 0.2239564  0.97198019 0.13192025 0.99235163]\n",
      " [0.66679968 0.09476042 0.04847196 0.92403526 0.88193822]\n",
      " [0.03468695 0.80065152 0.70545211 0.85752408 0.50201388]]\n"
     ]
    },
    {
     "data": {
      "image/png": "[encoded data removed]",
      "text/plain": [
       "<Figure size 215x215 with 1 Axes>"
      ]
     },
     "metadata": {},
     "output_type": "display_data"
    },
    {
     "name": "stdout",
     "output_type": "stream",
     "text": [
      "[[0.28148466 0.28121688 0.41483656 0.19844477 0.84173586]\n",
      " [0.44047267 0.30622132 0.45327891 0.16825579 0.90291111]\n",
      " [0.64430061 0.19763646 0.97872801 0.10153168 1.        ]\n",
      " [0.66005643 0.06272913 0.0143944  0.92866358 0.88470557]\n",
      " [0.         0.79982543 0.70041756 0.85921216 0.48798598]]\n"
     ]
    },
    {
     "data": {
      "image/png": "[encoded data removed]",
      "text/plain": [
       "<Figure size 215x215 with 1 Axes>"
      ]
     },
     "metadata": {},
     "output_type": "display_data"
    }
   ],
   "source": [
    "Z = np.random.random((5,5))\n",
    "show_array2(Z)\n",
    "Zmax,Zmin = Z.max(), Z.min()\n",
    "Z = (Z - Zmin)/(Zmax - Zmin)\n",
    "show_array2(Z)"
   ]
  },
  {
   "cell_type": "markdown",
   "metadata": {},
   "source": [
    "Multiply a 5x3 matrix by a 3x2 matrix (real matrix product)"
   ]
  },
  {
   "cell_type": "code",
   "execution_count": 131,
   "metadata": {},
   "outputs": [
    {
     "name": "stdout",
     "output_type": "stream",
     "text": [
      "[[1. 1. 1.]\n",
      " [1. 1. 1.]\n",
      " [1. 1. 1.]\n",
      " [1. 1. 1.]\n",
      " [1. 1. 1.]]\n",
      "[[1. 1.]\n",
      " [1. 1.]\n",
      " [1. 1.]]\n",
      "[[3. 3.]\n",
      " [3. 3.]\n",
      " [3. 3.]\n",
      " [3. 3.]\n",
      " [3. 3.]]\n"
     ]
    },
    {
     "data": {
      "image/png": "[encoded data removed]",
      "text/plain": [
       "<Figure size 86x215 with 1 Axes>"
      ]
     },
     "metadata": {},
     "output_type": "display_data"
    }
   ],
   "source": [
    "Z = np.dot(np.ones((5,3)), np.ones((3,2)))\n",
    "print(np.ones((5,3)))\n",
    "print(np.ones((3,2)))\n",
    "show_array2(Z)"
   ]
  },
  {
   "cell_type": "markdown",
   "metadata": {},
   "source": [
    "Create a 10x10 matrix with row values ranging from 0 to 9"
   ]
  },
  {
   "cell_type": "code",
   "execution_count": 132,
   "metadata": {},
   "outputs": [
    {
     "name": "stdout",
     "output_type": "stream",
     "text": [
      "[[0. 1. 2. 3. 4. 5. 6. 7. 8. 9.]\n",
      " [0. 1. 2. 3. 4. 5. 6. 7. 8. 9.]\n",
      " [0. 1. 2. 3. 4. 5. 6. 7. 8. 9.]\n",
      " [0. 1. 2. 3. 4. 5. 6. 7. 8. 9.]\n",
      " [0. 1. 2. 3. 4. 5. 6. 7. 8. 9.]\n",
      " [0. 1. 2. 3. 4. 5. 6. 7. 8. 9.]\n",
      " [0. 1. 2. 3. 4. 5. 6. 7. 8. 9.]\n",
      " [0. 1. 2. 3. 4. 5. 6. 7. 8. 9.]\n",
      " [0. 1. 2. 3. 4. 5. 6. 7. 8. 9.]\n",
      " [0. 1. 2. 3. 4. 5. 6. 7. 8. 9.]]\n"
     ]
    },
    {
     "data": {
      "image/png": "[encoded data removed]",
      "text/plain": [
       "<Figure size 430x430 with 1 Axes>"
      ]
     },
     "metadata": {},
     "output_type": "display_data"
    }
   ],
   "source": [
    "Z = np.zeros((10,10))\n",
    "Z += np.arange(10)\n",
    "show_array2(Z)"
   ]
  },
  {
   "cell_type": "markdown",
   "metadata": {},
   "source": [
    "Create a vector of size 1000 with values ranging from 0 to 1, both excluded"
   ]
  },
  {
   "cell_type": "code",
   "execution_count": 133,
   "metadata": {},
   "outputs": [
    {
     "name": "stdout",
     "output_type": "stream",
     "text": [
      "[0.000999 0.001998 0.002997 0.003996 0.004995]\n"
     ]
    }
   ],
   "source": [
    "Z = np.linspace(0,1,1002,endpoint=True)[1:-1]\n",
    "print(Z[0:5:])"
   ]
  },
  {
   "cell_type": "markdown",
   "metadata": {},
   "source": [
    "Create a random vector of size 100 and sort it"
   ]
  },
  {
   "cell_type": "code",
   "execution_count": 134,
   "metadata": {},
   "outputs": [
    {
     "name": "stdout",
     "output_type": "stream",
     "text": [
      "[[0.22818117 0.21439005 0.12975593 0.22498654 0.3208549  0.5675909\n",
      "  0.62272387 0.04605536 0.57316647 0.68360446 0.85706597 0.6604521\n",
      "  0.74249644 0.75072954 0.77037109 0.22845814 0.31260357 0.20676887\n",
      "  0.08634914 0.89808487 0.27236497 0.40750123 0.0819618  0.02364806\n",
      "  0.38811167 0.87135841 0.43724829 0.14178136 0.02803422 0.47634568\n",
      "  0.36880377 0.7373076  0.28149062 0.33038674 0.2454546  0.04857758\n",
      "  0.08843541 0.25816173 0.37544844 0.66365473 0.44207199 0.00389013\n",
      "  0.71889892 0.06783157 0.14115065 0.26174844 0.00765941 0.37625949\n",
      "  0.75126619 0.69435235 0.62947116 0.35657509 0.76230445 0.39381782\n",
      "  0.04353729 0.62121051 0.77975868 0.85449437 0.58804307 0.17541876\n",
      "  0.75498731 0.09253356 0.50072718 0.39683272 0.93537287 0.94691272\n",
      "  0.18067296 0.32165956 0.9312041  0.7646269  0.18810078 0.48431387\n",
      "  0.38181169 0.46895106 0.51632005 0.32074119 0.06237166 0.98091851\n",
      "  0.00196998 0.3473941  0.36335358 0.66712908 0.87459275 0.76417173\n",
      "  0.24942522 0.1764001  0.42140065 0.5399658  0.46289752 0.92131056\n",
      "  0.64710522 0.40940845 0.35419119 0.29386542 0.47182974 0.51238943\n",
      "  0.44208535 0.44835965 0.77832207 0.00244838]]\n"
     ]
    },
    {
     "data": {
      "image/png": "[encoded data removed]",
      "text/plain": [
       "<Figure size 4300x43 with 1 Axes>"
      ]
     },
     "metadata": {},
     "output_type": "display_data"
    },
    {
     "name": "stdout",
     "output_type": "stream",
     "text": [
      "[[0.00196998 0.00244838 0.00389013 0.00765941 0.02364806 0.02803422\n",
      "  0.04353729 0.04605536 0.04857758 0.06237166 0.06783157 0.0819618\n",
      "  0.08634914 0.08843541 0.09253356 0.12975593 0.14115065 0.14178136\n",
      "  0.17541876 0.1764001  0.18067296 0.18810078 0.20676887 0.21439005\n",
      "  0.22498654 0.22818117 0.22845814 0.2454546  0.24942522 0.25816173\n",
      "  0.26174844 0.27236497 0.28149062 0.29386542 0.31260357 0.32074119\n",
      "  0.3208549  0.32165956 0.33038674 0.3473941  0.35419119 0.35657509\n",
      "  0.36335358 0.36880377 0.37544844 0.37625949 0.38181169 0.38811167\n",
      "  0.39381782 0.39683272 0.40750123 0.40940845 0.42140065 0.43724829\n",
      "  0.44207199 0.44208535 0.44835965 0.46289752 0.46895106 0.47182974\n",
      "  0.47634568 0.48431387 0.50072718 0.51238943 0.51632005 0.5399658\n",
      "  0.5675909  0.57316647 0.58804307 0.62121051 0.62272387 0.62947116\n",
      "  0.64710522 0.6604521  0.66365473 0.66712908 0.68360446 0.69435235\n",
      "  0.71889892 0.7373076  0.74249644 0.75072954 0.75126619 0.75498731\n",
      "  0.76230445 0.76417173 0.7646269  0.77037109 0.77832207 0.77975868\n",
      "  0.85449437 0.85706597 0.87135841 0.87459275 0.89808487 0.92131056\n",
      "  0.9312041  0.93537287 0.94691272 0.98091851]]\n"
     ]
    },
    {
     "data": {
      "image/png": "[encoded data removed]",
      "text/plain": [
       "<Figure size 4300x43 with 1 Axes>"
      ]
     },
     "metadata": {},
     "output_type": "display_data"
    },
    {
     "name": "stdout",
     "output_type": "stream",
     "text": [
      "[[0.41170598 0.00414737 0.26109263 0.84362273 0.19136285 0.91894181\n",
      "  0.09571147 0.21276387 0.16840495 0.67124053 0.90863922 0.78502891\n",
      "  0.30940518 0.92205096 0.45497337 0.37901919 0.51309558 0.07880711\n",
      "  0.21721474 0.40983435 0.69377268 0.60332051 0.10260959 0.94327122\n",
      "  0.62288013]\n",
      " [0.26812401 0.78902854 0.66899656 0.86840335 0.31133861 0.26021905\n",
      "  0.36505265 0.81183645 0.04144154 0.5260329  0.54936905 0.45197262\n",
      "  0.51257791 0.17817264 0.12696078 0.48498408 0.16129493 0.94370688\n",
      "  0.37340375 0.90759954 0.91096357 0.07251437 0.27295325 0.5913975\n",
      "  0.82170049]\n",
      " [0.33770455 0.89704359 0.79050925 0.29763639 0.14700103 0.13929183\n",
      "  0.9697134  0.16340448 0.51089323 0.79443177 0.1728317  0.59890128\n",
      "  0.20620056 0.557781   0.04832359 0.45506743 0.20097124 0.69521692\n",
      "  0.73845294 0.36257203 0.8910486  0.91743453 0.32644355 0.52770372\n",
      "  0.30939784]\n",
      " [0.36315075 0.29871344 0.74055276 0.97952903 0.64882675 0.8414813\n",
      "  0.8177366  0.20869354 0.65836497 0.56295006 0.56612493 0.0678237\n",
      "  0.66459871 0.78977285 0.95276924 0.99047953 0.00986136 0.28152944\n",
      "  0.15587079 0.74143061 0.62974985 0.92751773 0.19039366 0.79988401\n",
      "  0.96465393]]\n"
     ]
    },
    {
     "data": {
      "image/png": "[encoded data removed]",
      "text/plain": [
       "<Figure size 1075x172 with 1 Axes>"
      ]
     },
     "metadata": {},
     "output_type": "display_data"
    },
    {
     "name": "stdout",
     "output_type": "stream",
     "text": [
      "[[0.00414737 0.07880711 0.09571147 0.10260959 0.16840495 0.19136285\n",
      "  0.21276387 0.21721474 0.26109263 0.30940518 0.37901919 0.40983435\n",
      "  0.41170598 0.45497337 0.51309558 0.60332051 0.62288013 0.67124053\n",
      "  0.69377268 0.78502891 0.84362273 0.90863922 0.91894181 0.92205096\n",
      "  0.94327122]\n",
      " [0.04144154 0.07251437 0.12696078 0.16129493 0.17817264 0.26021905\n",
      "  0.26812401 0.27295325 0.31133861 0.36505265 0.37340375 0.45197262\n",
      "  0.48498408 0.51257791 0.5260329  0.54936905 0.5913975  0.66899656\n",
      "  0.78902854 0.81183645 0.82170049 0.86840335 0.90759954 0.91096357\n",
      "  0.94370688]\n",
      " [0.04832359 0.13929183 0.14700103 0.16340448 0.1728317  0.20097124\n",
      "  0.20620056 0.29763639 0.30939784 0.32644355 0.33770455 0.36257203\n",
      "  0.45506743 0.51089323 0.52770372 0.557781   0.59890128 0.69521692\n",
      "  0.73845294 0.79050925 0.79443177 0.8910486  0.89704359 0.91743453\n",
      "  0.9697134 ]\n",
      " [0.00986136 0.0678237  0.15587079 0.19039366 0.20869354 0.28152944\n",
      "  0.29871344 0.36315075 0.56295006 0.56612493 0.62974985 0.64882675\n",
      "  0.65836497 0.66459871 0.74055276 0.74143061 0.78977285 0.79988401\n",
      "  0.8177366  0.8414813  0.92751773 0.95276924 0.96465393 0.97952903\n",
      "  0.99047953]]\n"
     ]
    },
    {
     "data": {
      "image/png": "[encoded data removed]",
      "text/plain": [
       "<Figure size 1075x172 with 1 Axes>"
      ]
     },
     "metadata": {},
     "output_type": "display_data"
    }
   ],
   "source": [
    "Z = np.random.random(100)\n",
    "show_array2(Z)\n",
    "Z.sort()\n",
    "show_array2(Z)\n",
    "Z = np.random.random(100)\n",
    "Z = Z.reshape(4,25)\n",
    "show_array2(Z)\n",
    "Z.sort()\n",
    "show_array2(Z)"
   ]
  },
  {
   "cell_type": "markdown",
   "metadata": {},
   "source": [
    "Consider two random matrices A anb B, check if they are equal."
   ]
  },
  {
   "cell_type": "code",
   "execution_count": 139,
   "metadata": {},
   "outputs": [
    {
     "name": "stdout",
     "output_type": "stream",
     "text": [
      "[[0 1]\n",
      " [1 1]]\n"
     ]
    },
    {
     "data": {
      "image/png": "[encoded data removed]",
      "text/plain": [
       "<Figure size 86x86 with 1 Axes>"
      ]
     },
     "metadata": {},
     "output_type": "display_data"
    },
    {
     "name": "stdout",
     "output_type": "stream",
     "text": [
      "[[1 0]\n",
      " [1 1]]\n"
     ]
    },
    {
     "data": {
      "image/png": "[encoded data removed]",
      "text/plain": [
       "<Figure size 86x86 with 1 Axes>"
      ]
     },
     "metadata": {},
     "output_type": "display_data"
    },
    {
     "name": "stdout",
     "output_type": "stream",
     "text": [
      "[[False]]\n"
     ]
    },
    {
     "data": {
      "image/png": "[encoded data removed]",
      "text/plain": [
       "<Figure size 43x43 with 1 Axes>"
      ]
     },
     "metadata": {},
     "output_type": "display_data"
    }
   ],
   "source": [
    "A = np.random.randint(0,2,(2,2))\n",
    "show_array2(A)\n",
    "B = np.random.randint(0,2,(2,2))\n",
    "show_array2(B)\n",
    "equal = np.allclose(A,B)\n",
    "show_array2(equal)"
   ]
  },
  {
   "cell_type": "markdown",
   "metadata": {},
   "source": [
    "Create a random vector of size 1000 and find the mean value"
   ]
  },
  {
   "cell_type": "code",
   "execution_count": 142,
   "metadata": {},
   "outputs": [
    {
     "name": "stdout",
     "output_type": "stream",
     "text": [
      "0.5027596115593441\n"
     ]
    }
   ],
   "source": [
    "Z = np.random.random(1000)\n",
    "m = Z.mean()\n",
    "print(m)"
   ]
  },
  {
   "cell_type": "markdown",
   "metadata": {},
   "source": [
    "Consider a random 100x2 matrix representing cartesian coordinates, convert them to polar coordinates"
   ]
  },
  {
   "cell_type": "code",
   "execution_count": 155,
   "metadata": {},
   "outputs": [
    {
     "name": "stdout",
     "output_type": "stream",
     "text": [
      "[[0.2969674  0.35198417]]\n",
      "[0.2969674] [0.35198417]\n",
      "[0.46052415]\n",
      "[0.86997386]\n"
     ]
    }
   ],
   "source": [
    "Z = np.random.random((100,2))\n",
    "print(Z[:1])\n",
    "X,Y = Z[:,0], Z[:,1]\n",
    "print(X[:1],Y[:1])\n",
    "R = np.sqrt(X**2+Y**2)\n",
    "print(R[:1])\n",
    "T = np.arctan2(Y,X)\n",
    "print(T[:1])"
   ]
  },
  {
   "cell_type": "markdown",
   "metadata": {},
   "source": [
    "Create random vector of size 100 and replace the maximum value by 0"
   ]
  },
  {
   "cell_type": "code",
   "execution_count": 166,
   "metadata": {},
   "outputs": [
    {
     "name": "stdout",
     "output_type": "stream",
     "text": [
      "0.9956938398232403\n",
      "[0.         0.0025591  0.00581275 0.00946749 0.01151954 0.04126103\n",
      " 0.06184434 0.06353945 0.07174328 0.07713557 0.09114462 0.11224614\n",
      " 0.11700524 0.12657639 0.13359451 0.14183111 0.16714641 0.18303679\n",
      " 0.19969861 0.21108009 0.21938504 0.24507666 0.25108546 0.25411738\n",
      " 0.2632751  0.27280812 0.2775499  0.28995295 0.2902947  0.31933625\n",
      " 0.323688   0.3376602  0.37203773 0.37455722 0.38037098 0.38670683\n",
      " 0.40163279 0.41519905 0.42461567 0.44335589 0.4445762  0.44848076\n",
      " 0.44878425 0.44920608 0.48664822 0.50162378 0.50196156 0.50351332\n",
      " 0.50357383 0.50712105 0.51847538 0.5209376  0.52503785 0.53377707\n",
      " 0.54782333 0.57215756 0.57931166 0.59170368 0.59627477 0.6004118\n",
      " 0.60623927 0.60899604 0.61068571 0.61771489 0.61951279 0.62814301\n",
      " 0.64155765 0.6470197  0.65973334 0.6597414  0.69376062 0.71030321\n",
      " 0.72884327 0.73747312 0.73787308 0.74185053 0.74316564 0.7564144\n",
      " 0.76227462 0.76429566 0.77572956 0.77704865 0.80198228 0.83040623\n",
      " 0.84401089 0.85862319 0.87992705 0.8957919  0.89671447 0.89874757\n",
      " 0.9198714  0.92237465 0.94036656 0.95785142 0.96785205 0.96944403\n",
      " 0.97454654 0.97584608 0.97974108 0.98773273]\n",
      "0.9877327341730175\n"
     ]
    }
   ],
   "source": [
    "Z = np.random.random(100)\n",
    "print(Z.max())\n",
    "Z[Z.argmax()] = 0\n",
    "Z.sort()\n",
    "print(Z)\n",
    "print(Z.max())"
   ]
  },
  {
   "cell_type": "markdown",
   "metadata": {},
   "source": [
    "Declare a structured array with x and y coordinates covering the [0,1]x[0,1] area."
   ]
  },
  {
   "cell_type": "code",
   "execution_count": 169,
   "metadata": {},
   "outputs": [],
   "source": [
    "Z = np.zeros((10,10), [('x',float),('y',float)])\n",
    "Z['x'], Z['y'] = np.meshgrid(np.linspace(0,1,10),np.linspace(0,1,10))"
   ]
  },
  {
   "cell_type": "code",
   "execution_count": 174,
   "metadata": {},
   "outputs": [
    {
     "name": "stdout",
     "output_type": "stream",
     "text": [
      "[[(0., 0.) (0., 0.) (0., 0.)]\n",
      " [(0., 0.) (0., 0.) (0., 0.)]\n",
      " [(0., 0.) (0., 0.) (0., 0.)]]\n",
      "[[(0. , 0. ) (0.5, 0. ) (1. , 0. )]\n",
      " [(0. , 0.5) (0.5, 0.5) (1. , 0.5)]\n",
      " [(0. , 1. ) (0.5, 1. ) (1. , 1. )]]\n"
     ]
    }
   ],
   "source": [
    "Z = np.zeros((3,3), [('x',float),('y',float)])\n",
    "print(Z)\n",
    "Z['x'], Z['y'] = np.meshgrid(np.linspace(0,1,3),np.linspace(0,1,3))\n",
    "print(Z)"
   ]
  },
  {
   "cell_type": "markdown",
   "metadata": {},
   "source": [
    "Print the minimum and maximum representable value for each numpy scalar type"
   ]
  },
  {
   "cell_type": "code",
   "execution_count": 194,
   "metadata": {},
   "outputs": [
    {
     "name": "stdout",
     "output_type": "stream",
     "text": [
      "-128 \t 127\n",
      "-2147483648 \t 2147483647\n",
      "-9223372036854775808 \t 9223372036854775807\n",
      "-3.4028235e+38 \t 3.4028235e+38 \t 1.1920929e-07\n",
      "-1.7976931348623157e+308 \t 1.7976931348623157e+308 \t 2.220446049250313e-16\n"
     ]
    }
   ],
   "source": [
    "for dtype in [np.int8, np.int32, np.int64]:\n",
    "   print(np.iinfo(dtype).min, \"\\t\", np.iinfo(dtype).max)\n",
    "for dtype in [np.float32, np.float64]:\n",
    "   print(np.finfo(dtype).min, \"\\t\", np.finfo(dtype).max, \"\\t\", (np.finfo(dtype).eps))"
   ]
  },
  {
   "cell_type": "markdown",
   "metadata": {},
   "source": [
    "Create a structured array representing a position (x,y) and a color (r,g,b)"
   ]
  },
  {
   "cell_type": "code",
   "execution_count": 191,
   "metadata": {},
   "outputs": [
    {
     "name": "stdout",
     "output_type": "stream",
     "text": [
      "[(([0.], [0.]), ([0.], [0.], [0.])) (([0.], [0.]), ([0.], [0.], [0.]))\n",
      " (([0.], [0.]), ([0.], [0.], [0.])) (([0.], [0.]), ([0.], [0.], [0.]))\n",
      " (([0.], [0.]), ([0.], [0.], [0.])) (([0.], [0.]), ([0.], [0.], [0.]))\n",
      " (([0.], [0.]), ([0.], [0.], [0.])) (([0.], [0.]), ([0.], [0.], [0.]))\n",
      " (([0.], [0.]), ([0.], [0.], [0.])) (([0.], [0.]), ([0.], [0.], [0.]))]\n"
     ]
    }
   ],
   "source": [
    "Z = np.zeros(10, [ ('position', [ ('x', float, (1,)),\n",
    "                                  ('y', float, (1,))]),\n",
    "                   ('color',    [ ('r', float, (1,)),\n",
    "                                  ('g', float, (1,)),\n",
    "                                  ('b', float, (1,))])])\n",
    "print(Z)"
   ]
  },
  {
   "cell_type": "markdown",
   "metadata": {},
   "source": [
    "Consider a random vector with shape (100,2) representing coordinates, find point by point distances"
   ]
  },
  {
   "cell_type": "code",
   "execution_count": 198,
   "metadata": {},
   "outputs": [
    {
     "name": "stdout",
     "output_type": "stream",
     "text": [
      "[[0.         0.53048302 0.39996695 0.13069102 0.18346905 0.59543546\n",
      "  0.2825151  0.76061992 0.65364188 0.1282112 ]]\n"
     ]
    }
   ],
   "source": [
    "Z = np.random.random((10,2))\n",
    "X,Y = np.atleast_2d(Z[:,0]), np.atleast_2d(Z[:,1])\n",
    "D = np.sqrt( (X-X.T)**2 + (Y-Y.T)**2)\n",
    "print(D[:1:])"
   ]
  },
  {
   "cell_type": "markdown",
   "metadata": {},
   "source": [
    "Generate a generic 2D Gaussian-like array"
   ]
  },
  {
   "cell_type": "code",
   "execution_count": 200,
   "metadata": {},
   "outputs": [
    {
     "name": "stdout",
     "output_type": "stream",
     "text": [
      "[[0.36787944 0.37531033 0.38273509 0.39014747 0.39754112 0.40490961\n",
      "  0.41224639 0.41954485 0.42679831 0.434      0.44114314 0.44822088\n",
      "  0.45522635 0.46215266 0.46899291 0.4757402  0.48238765 0.4889284\n",
      "  0.49535563 0.50166256 0.5078425  0.51388879 0.51979489 0.52555433\n",
      "  0.53116077 0.53660796 0.54188982 0.54700038 0.55193383 0.55668454\n",
      "  0.56124703 0.56561604 0.56978646 0.57375342 0.57751226 0.58105853\n",
      "  0.58438803 0.58749679 0.59038109 0.59303746 0.59546272 0.59765394\n",
      "  0.59960845 0.60132389 0.60279818 0.60402951 0.60501638 0.6057576\n",
      "  0.60625224 0.60649972 0.60649972 0.60625224 0.6057576  0.60501638\n",
      "  0.60402951 0.60279818 0.60132389 0.59960845 0.59765394 0.59546272\n",
      "  0.59303746 0.59038109 0.58749679 0.58438803 0.58105853 0.57751226\n",
      "  0.57375342 0.56978646 0.56561604 0.56124703 0.55668454 0.55193383\n",
      "  0.54700038 0.54188982 0.53660796 0.53116077 0.52555433 0.51979489\n",
      "  0.51388879 0.5078425  0.50166256 0.49535563 0.4889284  0.48238765\n",
      "  0.4757402  0.46899291 0.46215266 0.45522635 0.44822088 0.44114314\n",
      "  0.434      0.42679831 0.41954485 0.41224639 0.40490961 0.39754112\n",
      "  0.39014747 0.38273509 0.37531033 0.36787944]]\n"
     ]
    }
   ],
   "source": [
    "X, Y = np.meshgrid(np.linspace(-1,1,100), np.linspace(-1,1,100))\n",
    "D = np.sqrt(X*X+Y*Y)\n",
    "sigma, mu = 1.0, 0.0\n",
    "G = np.exp(-( (D-mu)**2 / ( 2.0 * sigma**2 ) ) )\n",
    "print(G[:1:])"
   ]
  },
  {
   "cell_type": "markdown",
   "metadata": {},
   "source": [
    "Consider the vector [1, 2, 3, 4, 5], how to build a new vector with 3 consecutive zeros interleaved between each value ?"
   ]
  },
  {
   "cell_type": "code",
   "execution_count": 206,
   "metadata": {},
   "outputs": [
    {
     "name": "stdout",
     "output_type": "stream",
     "text": [
      "[1 2 3 4 5]\n",
      "[0. 0. 0. 0. 0. 0. 0. 0. 0. 0. 0. 0. 0. 0. 0. 0. 0.]\n",
      "[1. 0. 0. 0. 2. 0. 0. 0. 3. 0. 0. 0. 4. 0. 0. 0. 5.]\n",
      "[[1.]\n",
      " [0.]\n",
      " [0.]\n",
      " [0.]\n",
      " [2.]\n",
      " [0.]\n",
      " [0.]\n",
      " [0.]\n",
      " [3.]\n",
      " [0.]\n",
      " [0.]\n",
      " [0.]\n",
      " [4.]\n",
      " [0.]\n",
      " [0.]\n",
      " [0.]\n",
      " [5.]]\n"
     ]
    }
   ],
   "source": [
    "Z = np.array([1,2,3,4,5])\n",
    "print(Z)\n",
    "nz = 3\n",
    "Z0 = np.zeros(len(Z) + (len(Z)-1)*(nz))\n",
    "print(Z0)\n",
    "Z0[::nz+1] = Z\n",
    "print(Z0)\n",
    "print(Z0.reshape(17,1))"
   ]
  }
 ],
 "metadata": {
  "kernelspec": {
   "display_name": "Python 3",
   "language": "python",
   "name": "python3"
  },
  "language_info": {
   "codemirror_mode": {
    "name": "ipython",
    "version": 3
   },
   "file_extension": ".py",
   "mimetype": "text/x-python",
   "name": "python",
   "nbconvert_exporter": "python",
   "pygments_lexer": "ipython3",
   "version": "3.12.0"
  }
 },
 "nbformat": 4,
 "nbformat_minor": 2
}
