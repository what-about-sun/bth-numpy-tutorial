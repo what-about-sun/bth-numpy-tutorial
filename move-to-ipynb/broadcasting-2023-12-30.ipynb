{
 "cells": [
  {
   "cell_type": "markdown",
   "metadata": {},
   "source": [
    "# Broadcasting\n",
    "\n",
    "It describes how to treats arrays with different shapes during arithmetic operations.  \n",
    "Subject to certain constraints, the smaller array is “broadcast” across the larger array so that they have compatible shapes. "
   ]
  },
  {
   "cell_type": "code",
   "execution_count": 1,
   "metadata": {},
   "outputs": [],
   "source": [
    "import numpy as np\n",
    "import matplotlib.pyplot as plt\n",
    "from matplotlib.patches import Rectangle"
   ]
  },
  {
   "cell_type": "code",
   "execution_count": 16,
   "metadata": {},
   "outputs": [],
   "source": [
    "def show(Z, shape):\n",
    "    Z = np.atleast_2d(Z)\n",
    "\n",
    "    fig = plt.figure(figsize=(shape[1]/4.,shape[0]/4.), dpi=72)\n",
    "    ax = plt.subplot(111)\n",
    "    plt.imshow(Z, cmap='bone_r', extent=[0,Z.shape[1],0,Z.shape[0]],\n",
    "               vmin=0, vmax=max(1,Z.max()), interpolation='nearest', origin='upper')\n",
    "    plt.xticks([]), plt.yticks([])\n",
    "    plt.xlim(0,shape[1])\n",
    "    plt.ylim(0,shape[0])\n",
    "\n",
    "    for pos in ['top', 'bottom', 'right', 'left']:\n",
    "        ax.spines[pos].set_edgecolor('k')\n",
    "        ax.spines[pos].set_alpha(.25)\n",
    "        if Z.shape != shape:\n",
    "            ax.spines[pos].set_linestyle('dashed')\n",
    "            ax.spines[pos].set_alpha(.25)\n",
    "    if Z.shape != shape:\n",
    "        rect = Rectangle((0.01,0.01),Z.shape[1],Z.shape[0], \n",
    "                         zorder=+10,edgecolor='black', alpha=.25,facecolor='None')\n",
    "        ax.add_patch(rect)\n",
    "        ax.set_axisbelow(True)\n",
    "    plt.show()"
   ]
  },
  {
   "cell_type": "code",
   "execution_count": 17,
   "metadata": {},
   "outputs": [
    {
     "data": {
      "image/png": "[encoded data removed]",
      "text/plain": [
       "<Figure size 90x162 with 1 Axes>"
      ]
     },
     "metadata": {},
     "output_type": "display_data"
    },
    {
     "data": {
      "image/png": "[encoded data removed]",
      "text/plain": [
       "<Figure size 90x162 with 1 Axes>"
      ]
     },
     "metadata": {},
     "output_type": "display_data"
    },
    {
     "data": {
      "image/png": "[encoded data removed]",
      "text/plain": [
       "<Figure size 90x162 with 1 Axes>"
      ]
     },
     "metadata": {},
     "output_type": "display_data"
    },
    {
     "data": {
      "image/png": "[encoded data removed]",
      "text/plain": [
       "<Figure size 90x162 with 1 Axes>"
      ]
     },
     "metadata": {},
     "output_type": "display_data"
    }
   ],
   "source": [
    "Z1 = np.random.uniform(0,1,(9,5))\n",
    "Z2 = np.ones((1,1))\n",
    "Z3 = np.ones(Z1.shape)\n",
    "show(Z1, Z1.shape)\n",
    "show(Z2, Z1.shape)\n",
    "show(Z3, Z1.shape)\n",
    "show(Z1+Z2, Z1.shape)"
   ]
  },
  {
   "cell_type": "code",
   "execution_count": 18,
   "metadata": {},
   "outputs": [
    {
     "data": {
      "image/png": "[encoded data removed]",
      "text/plain": [
       "<Figure size 90x162 with 1 Axes>"
      ]
     },
     "metadata": {},
     "output_type": "display_data"
    },
    {
     "data": {
      "image/png": "[encoded data removed]",
      "text/plain": [
       "<Figure size 90x162 with 1 Axes>"
      ]
     },
     "metadata": {},
     "output_type": "display_data"
    },
    {
     "data": {
      "image/png": "[encoded data removed]",
      "text/plain": [
       "<Figure size 90x162 with 1 Axes>"
      ]
     },
     "metadata": {},
     "output_type": "display_data"
    },
    {
     "data": {
      "image/png": "[encoded data removed]",
      "text/plain": [
       "<Figure size 90x162 with 1 Axes>"
      ]
     },
     "metadata": {},
     "output_type": "display_data"
    }
   ],
   "source": [
    "Z2 = np.arange(9).reshape(9,1)\n",
    "Z3 = np.repeat(Z2,5).reshape(9,5)\n",
    "show(Z1, Z1.shape)\n",
    "show(Z2, Z1.shape)\n",
    "show(Z3, Z1.shape)\n",
    "show(Z1+Z2, Z1.shape)"
   ]
  },
  {
   "cell_type": "code",
   "execution_count": 19,
   "metadata": {},
   "outputs": [
    {
     "data": {
      "image/png": "[encoded data removed]",
      "text/plain": [
       "<Figure size 90x162 with 1 Axes>"
      ]
     },
     "metadata": {},
     "output_type": "display_data"
    },
    {
     "data": {
      "image/png": "[encoded data removed]",
      "text/plain": [
       "<Figure size 90x162 with 1 Axes>"
      ]
     },
     "metadata": {},
     "output_type": "display_data"
    },
    {
     "data": {
      "image/png": "[encoded data removed]",
      "text/plain": [
       "<Figure size 90x162 with 1 Axes>"
      ]
     },
     "metadata": {},
     "output_type": "display_data"
    },
    {
     "data": {
      "image/png": "[encoded data removed]",
      "text/plain": [
       "<Figure size 90x162 with 1 Axes>"
      ]
     },
     "metadata": {},
     "output_type": "display_data"
    }
   ],
   "source": [
    "Z2 = np.arange(5).reshape(1,5)\n",
    "Z3 = np.repeat(Z2,9).reshape(5,9).T\n",
    "show(Z1, Z1.shape)\n",
    "show(Z2, Z1.shape)\n",
    "show(Z3, Z1.shape)\n",
    "show(Z1+Z2, Z1.shape)"
   ]
  },
  {
   "cell_type": "code",
   "execution_count": 20,
   "metadata": {},
   "outputs": [
    {
     "data": {
      "image/png": "[encoded data removed]",
      "text/plain": [
       "<Figure size 90x162 with 1 Axes>"
      ]
     },
     "metadata": {},
     "output_type": "display_data"
    },
    {
     "data": {
      "image/png": "[encoded data removed]",
      "text/plain": [
       "<Figure size 90x162 with 1 Axes>"
      ]
     },
     "metadata": {},
     "output_type": "display_data"
    },
    {
     "data": {
      "image/png": "[encoded data removed]",
      "text/plain": [
       "<Figure size 90x162 with 1 Axes>"
      ]
     },
     "metadata": {},
     "output_type": "display_data"
    },
    {
     "data": {
      "image/png": "[encoded data removed]",
      "text/plain": [
       "<Figure size 90x162 with 1 Axes>"
      ]
     },
     "metadata": {},
     "output_type": "display_data"
    },
    {
     "data": {
      "image/png": "[encoded data removed]",
      "text/plain": [
       "<Figure size 90x162 with 1 Axes>"
      ]
     },
     "metadata": {},
     "output_type": "display_data"
    }
   ],
   "source": [
    "Z = np.zeros((9,5))\n",
    "Z1 = np.arange(9).reshape(9,1)\n",
    "Z2 = np.arange(5).reshape(1,5)\n",
    "Z3 = np.repeat(Z1,5).reshape(9,5)\n",
    "Z4 = np.repeat(Z2,9).reshape(5,9).T\n",
    "show(Z1, Z.shape)\n",
    "show(Z2, Z.shape)\n",
    "show(Z3, Z.shape)\n",
    "show(Z4, Z.shape)\n",
    "show(Z1+Z2, Z.shape)"
   ]
  }
 ],
 "metadata": {
  "kernelspec": {
   "display_name": "Python 3",
   "language": "python",
   "name": "python3"
  },
  "language_info": {
   "codemirror_mode": {
    "name": "ipython",
    "version": 3
   },
   "file_extension": ".py",
   "mimetype": "text/x-python",
   "name": "python",
   "nbconvert_exporter": "python",
   "pygments_lexer": "ipython3",
   "version": "3.12.0"
  }
 },
 "nbformat": 4,
 "nbformat_minor": 2
}
