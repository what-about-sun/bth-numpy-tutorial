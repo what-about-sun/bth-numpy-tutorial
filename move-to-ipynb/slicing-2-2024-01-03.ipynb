{
 "cells": [
  {
   "cell_type": "markdown",
   "metadata": {},
   "source": [
    "# Slicing Part 2\n",
    "Slicing means taking elements from one given index to another given index.  \n",
    "We can also define the step: `start:end:step`  \n",
    "If we don't pass ...\n",
    "  * start its considered 0,\n",
    "  * end its considered length of array in that dimension,\n",
    "  * step its considered 1  \n",
    "\n",
    "Note: The result includes the start index, but excludes the end index."
   ]
  },
  {
   "cell_type": "code",
   "execution_count": 1,
   "metadata": {},
   "outputs": [],
   "source": [
    "import numpy as np\n",
    "import matplotlib.pyplot as plt"
   ]
  },
  {
   "cell_type": "code",
   "execution_count": 5,
   "metadata": {},
   "outputs": [],
   "source": [
    "def show_slice(Z):\n",
    "    rows,cols = Z.shape\n",
    "    fig = plt.figure(figsize=(cols/4.,rows/4.), dpi=172)\n",
    "    ax = plt.subplot(111)\n",
    "    A = np.arange(rows*cols).reshape(rows,cols)\n",
    "    plt.imshow(Z, cmap='winter_r', extent=[0,cols,0,rows],\n",
    "               vmin=0, vmax=1, interpolation='nearest', origin='upper')\n",
    "    plt.xticks([]), plt.yticks([])\n",
    "    for pos in ['top', 'bottom', 'right', 'left']:\n",
    "        ax.spines[pos].set_edgecolor('k')\n",
    "        ax.spines[pos].set_alpha(.25)\n",
    "    print(Z)\n",
    "    plt.show()\n",
    "\n",
    "rows,cols = 5, 9"
   ]
  },
  {
   "cell_type": "code",
   "execution_count": 6,
   "metadata": {},
   "outputs": [
    {
     "name": "stdout",
     "output_type": "stream",
     "text": [
      "[[0.5  0.5  0.5  0.5  0.5  0.5  0.5  0.1  0.1 ]\n",
      " [0.5  0.5  0.5  0.5  0.5  0.5  0.5  0.25 0.1 ]\n",
      " [0.5  0.5  0.5  0.5  0.5  0.5  0.5  0.25 0.1 ]\n",
      " [0.1  0.25 0.25 0.25 0.25 0.25 0.25 0.25 0.1 ]\n",
      " [0.1  0.1  0.1  0.1  0.1  0.1  0.1  0.1  0.1 ]]\n"
     ]
    },
    {
     "data": {
      "image/png": "[encoded data removed]",
      "text/plain": [
       "<Figure size 387x215 with 1 Axes>"
      ]
     },
     "metadata": {},
     "output_type": "display_data"
    }
   ],
   "source": [
    "Z = np.zeros((rows,cols))+.1\n",
    "Z[1:-1,1:-1] = .25\n",
    "Z[ :-2,  :-2] = .5\n",
    "show_slice(Z)"
   ]
  },
  {
   "cell_type": "code",
   "execution_count": 7,
   "metadata": {},
   "outputs": [
    {
     "name": "stdout",
     "output_type": "stream",
     "text": [
      "[[0.1  0.5  0.5  0.5  0.5  0.5  0.5  0.5  0.1 ]\n",
      " [0.1  0.5  0.5  0.5  0.5  0.5  0.5  0.5  0.1 ]\n",
      " [0.1  0.5  0.5  0.5  0.5  0.5  0.5  0.5  0.1 ]\n",
      " [0.1  0.25 0.25 0.25 0.25 0.25 0.25 0.25 0.1 ]\n",
      " [0.1  0.1  0.1  0.1  0.1  0.1  0.1  0.1  0.1 ]]\n"
     ]
    },
    {
     "data": {
      "image/png": "[encoded data removed]",
      "text/plain": [
       "<Figure size 387x215 with 1 Axes>"
      ]
     },
     "metadata": {},
     "output_type": "display_data"
    }
   ],
   "source": [
    "Z = np.zeros((rows,cols))+.1\n",
    "Z[1:-1,1:-1] = .25\n",
    "Z[ :-2, 1:-1] = .5\n",
    "show_slice(Z)"
   ]
  },
  {
   "cell_type": "code",
   "execution_count": 8,
   "metadata": {},
   "outputs": [
    {
     "name": "stdout",
     "output_type": "stream",
     "text": [
      "[[0.1  0.1  0.5  0.5  0.5  0.5  0.5  0.5  0.5 ]\n",
      " [0.1  0.25 0.5  0.5  0.5  0.5  0.5  0.5  0.5 ]\n",
      " [0.1  0.25 0.5  0.5  0.5  0.5  0.5  0.5  0.5 ]\n",
      " [0.1  0.25 0.25 0.25 0.25 0.25 0.25 0.25 0.1 ]\n",
      " [0.1  0.1  0.1  0.1  0.1  0.1  0.1  0.1  0.1 ]]\n"
     ]
    },
    {
     "data": {
      "image/png": "[encoded data removed]",
      "text/plain": [
       "<Figure size 387x215 with 1 Axes>"
      ]
     },
     "metadata": {},
     "output_type": "display_data"
    }
   ],
   "source": [
    "Z = np.zeros((rows,cols))+.1\n",
    "Z[1:-1,1:-1] = .25\n",
    "Z[ :-2, 2:] = .5\n",
    "show_slice(Z)"
   ]
  },
  {
   "cell_type": "code",
   "execution_count": 9,
   "metadata": {},
   "outputs": [
    {
     "name": "stdout",
     "output_type": "stream",
     "text": [
      "[[0.1  0.1  0.1  0.1  0.1  0.1  0.1  0.1  0.1 ]\n",
      " [0.5  0.5  0.5  0.5  0.5  0.5  0.5  0.25 0.1 ]\n",
      " [0.5  0.5  0.5  0.5  0.5  0.5  0.5  0.25 0.1 ]\n",
      " [0.5  0.5  0.5  0.5  0.5  0.5  0.5  0.25 0.1 ]\n",
      " [0.1  0.1  0.1  0.1  0.1  0.1  0.1  0.1  0.1 ]]\n"
     ]
    },
    {
     "data": {
      "image/png": "[encoded data removed]",
      "text/plain": [
       "<Figure size 387x215 with 1 Axes>"
      ]
     },
     "metadata": {},
     "output_type": "display_data"
    }
   ],
   "source": [
    "Z = np.zeros((rows,cols))+.1\n",
    "Z[1:-1,1:-1] = .25\n",
    "Z[1:-1, 0:-2] = .5\n",
    "show_slice(Z)"
   ]
  },
  {
   "cell_type": "code",
   "execution_count": 10,
   "metadata": {},
   "outputs": [
    {
     "name": "stdout",
     "output_type": "stream",
     "text": [
      "[[0.1  0.1  0.1  0.1  0.1  0.1  0.1  0.1  0.1 ]\n",
      " [0.1  0.25 0.25 0.25 0.25 0.25 0.25 0.25 0.1 ]\n",
      " [0.1  0.25 0.25 0.25 0.25 0.25 0.25 0.25 0.1 ]\n",
      " [0.1  0.25 0.25 0.25 0.25 0.25 0.25 0.25 0.1 ]\n",
      " [0.1  0.1  0.1  0.1  0.1  0.1  0.1  0.1  0.1 ]]\n"
     ]
    },
    {
     "data": {
      "image/png": "[encoded data removed]",
      "text/plain": [
       "<Figure size 387x215 with 1 Axes>"
      ]
     },
     "metadata": {},
     "output_type": "display_data"
    }
   ],
   "source": [
    "Z = np.zeros((rows,cols))+.1\n",
    "Z[1:-1,1:-1] = .25\n",
    "show_slice(Z)"
   ]
  },
  {
   "cell_type": "code",
   "execution_count": 18,
   "metadata": {},
   "outputs": [
    {
     "name": "stdout",
     "output_type": "stream",
     "text": [
      "[[0.1  0.1  0.1  0.1  0.1  0.1  0.1  0.1  0.1 ]\n",
      " [0.1  0.25 0.5  0.5  0.5  0.5  0.5  0.5  0.5 ]\n",
      " [0.1  0.25 0.5  0.5  0.5  0.5  0.5  0.5  0.5 ]\n",
      " [0.1  0.25 0.5  0.5  0.5  0.5  0.5  0.5  0.5 ]\n",
      " [0.1  0.1  0.1  0.1  0.1  0.1  0.1  0.1  0.1 ]]\n"
     ]
    },
    {
     "data": {
      "image/png": "[encoded data removed]",
      "text/plain": [
       "<Figure size 387x215 with 1 Axes>"
      ]
     },
     "metadata": {},
     "output_type": "display_data"
    }
   ],
   "source": [
    "Z = np.zeros((rows,cols))+.1\n",
    "Z[1:-1,1:-1] = .25\n",
    "Z[1:-1, 2: ] = .5\n",
    "show_slice(Z)"
   ]
  },
  {
   "cell_type": "code",
   "execution_count": 19,
   "metadata": {},
   "outputs": [
    {
     "name": "stdout",
     "output_type": "stream",
     "text": [
      "[[0.1  0.1  0.1  0.1  0.1  0.1  0.1  0.1  0.1 ]\n",
      " [0.1  0.25 0.25 0.25 0.25 0.25 0.25 0.25 0.1 ]\n",
      " [0.5  0.5  0.5  0.5  0.5  0.5  0.5  0.25 0.1 ]\n",
      " [0.5  0.5  0.5  0.5  0.5  0.5  0.5  0.25 0.1 ]\n",
      " [0.5  0.5  0.5  0.5  0.5  0.5  0.5  0.1  0.1 ]]\n"
     ]
    },
    {
     "data": {
      "image/png": "[encoded data removed]",
      "text/plain": [
       "<Figure size 387x215 with 1 Axes>"
      ]
     },
     "metadata": {},
     "output_type": "display_data"
    }
   ],
   "source": [
    "Z = np.zeros((rows,cols))+.1\n",
    "Z[1:-1,1:-1] = .25\n",
    "Z[2:,  :-2] = .5\n",
    "show_slice(Z)"
   ]
  },
  {
   "cell_type": "code",
   "execution_count": 20,
   "metadata": {},
   "outputs": [
    {
     "name": "stdout",
     "output_type": "stream",
     "text": [
      "[[0.1  0.1  0.1  0.1  0.1  0.1  0.1  0.1  0.1 ]\n",
      " [0.1  0.25 0.25 0.25 0.25 0.25 0.25 0.25 0.1 ]\n",
      " [0.1  0.5  0.5  0.5  0.5  0.5  0.5  0.5  0.1 ]\n",
      " [0.1  0.5  0.5  0.5  0.5  0.5  0.5  0.5  0.1 ]\n",
      " [0.1  0.5  0.5  0.5  0.5  0.5  0.5  0.5  0.1 ]]\n"
     ]
    },
    {
     "data": {
      "image/png": "[encoded data removed]",
      "text/plain": [
       "<Figure size 387x215 with 1 Axes>"
      ]
     },
     "metadata": {},
     "output_type": "display_data"
    }
   ],
   "source": [
    "Z = np.zeros((rows,cols))+.1\n",
    "Z[1:-1,1:-1] = .25\n",
    "Z[2:, 1:-1] = .5\n",
    "show_slice(Z)"
   ]
  },
  {
   "cell_type": "code",
   "execution_count": 21,
   "metadata": {},
   "outputs": [
    {
     "name": "stdout",
     "output_type": "stream",
     "text": [
      "[[0.1  0.1  0.1  0.1  0.1  0.1  0.1  0.1  0.1 ]\n",
      " [0.1  0.25 0.25 0.25 0.25 0.25 0.25 0.25 0.1 ]\n",
      " [0.1  0.25 0.5  0.5  0.5  0.5  0.5  0.5  0.5 ]\n",
      " [0.1  0.25 0.5  0.5  0.5  0.5  0.5  0.5  0.5 ]\n",
      " [0.1  0.1  0.5  0.5  0.5  0.5  0.5  0.5  0.5 ]]\n"
     ]
    },
    {
     "data": {
      "image/png": "[encoded data removed]",
      "text/plain": [
       "<Figure size 387x215 with 1 Axes>"
      ]
     },
     "metadata": {},
     "output_type": "display_data"
    }
   ],
   "source": [
    "Z = np.zeros((rows,cols))+.1\n",
    "Z[1:-1,1:-1] = .25\n",
    "Z[2:,   2:] = .5\n",
    "show_slice(Z)"
   ]
  }
 ],
 "metadata": {
  "kernelspec": {
   "display_name": "Python 3",
   "language": "python",
   "name": "python3"
  },
  "language_info": {
   "codemirror_mode": {
    "name": "ipython",
    "version": 3
   },
   "file_extension": ".py",
   "mimetype": "text/x-python",
   "name": "python",
   "nbconvert_exporter": "python",
   "pygments_lexer": "ipython3",
   "version": "3.12.0"
  }
 },
 "nbformat": 4,
 "nbformat_minor": 2
}
