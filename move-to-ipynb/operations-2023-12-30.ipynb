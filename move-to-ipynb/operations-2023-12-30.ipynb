{
 "cells": [
  {
   "cell_type": "markdown",
   "metadata": {},
   "source": [
    "# Operations\n",
    "some examples  \n",
    "* `where`  \n",
    "Return elements chosen from x or y depending on condition.  \n",
    "* `maximum`    \n",
    "Element-wise maximum of array elements. Compare two arrays and return a new array containing the element-wise maxima.\n",
    "* `minimum`  \n",
    "Element-wise minimum of array elements. Compare two arrays and return a new array containing the element-wise minima.\n",
    "* `sum`  \n",
    "Sum of array elements over a given axis.\n"
   ]
  },
  {
   "cell_type": "code",
   "execution_count": 1,
   "metadata": {},
   "outputs": [],
   "source": [
    "import numpy as np\n",
    "import matplotlib.pyplot as plt"
   ]
  },
  {
   "cell_type": "code",
   "execution_count": 55,
   "metadata": {},
   "outputs": [],
   "source": [
    "def show_array(Z):\n",
    "\n",
    "    Z = np.atleast_2d(Z)\n",
    "    rows,cols = Z.shape\n",
    "    fig = plt.figure(figsize=(cols/4.,rows/4.), dpi=172)\n",
    "    ax = plt.subplot(111)\n",
    "    plt.imshow(Z, cmap='hot_r', extent=[0,cols,0,rows],\n",
    "               interpolation='nearest', origin='upper')\n",
    "    plt.xticks([]), plt.yticks([])\n",
    "    for pos in ['top', 'bottom', 'right', 'left']:\n",
    "        ax.spines[pos].set_edgecolor('k')\n",
    "        ax.spines[pos].set_alpha(.25)\n",
    "    print(Z)\n",
    "    plt.show()\n",
    "\n",
    "rows,cols = 3, 6"
   ]
  },
  {
   "cell_type": "code",
   "execution_count": 56,
   "metadata": {},
   "outputs": [
    {
     "name": "stdout",
     "output_type": "stream",
     "text": [
      "[[0.         0.05882353 0.11764706 0.17647059 0.23529412 0.29411765]\n",
      " [0.35294118 0.41176471 0.47058824 0.52941176 0.58823529 0.64705882]\n",
      " [0.70588235 0.76470588 0.82352941 0.88235294 0.94117647 1.        ]]\n"
     ]
    },
    {
     "data": {
      "image/png": "[encoded data removed]",
      "text/plain": [
       "<Figure size 258x129 with 1 Axes>"
      ]
     },
     "metadata": {},
     "output_type": "display_data"
    },
    {
     "name": "stdout",
     "output_type": "stream",
     "text": [
      "[[1 1 1 1 1 1]\n",
      " [1 1 1 0 0 0]\n",
      " [0 0 0 0 0 0]]\n"
     ]
    },
    {
     "data": {
      "image/png": "[encoded data removed]",
      "text/plain": [
       "<Figure size 258x129 with 1 Axes>"
      ]
     },
     "metadata": {},
     "output_type": "display_data"
    }
   ],
   "source": [
    "Z1 = np.linspace(0,1,rows*cols).reshape(rows,cols)\n",
    "show_array(Z1)\n",
    "Z2 = np.where(Z1 > 0.5, 0, 1)\n",
    "show_array(Z2)"
   ]
  },
  {
   "cell_type": "code",
   "execution_count": 57,
   "metadata": {},
   "outputs": [
    {
     "name": "stdout",
     "output_type": "stream",
     "text": [
      "[[0.         0.05882353 0.11764706 0.17647059 0.23529412 0.29411765]\n",
      " [0.35294118 0.41176471 0.47058824 0.52941176 0.58823529 0.64705882]\n",
      " [0.70588235 0.76470588 0.82352941 0.88235294 0.94117647 1.        ]]\n"
     ]
    },
    {
     "data": {
      "image/png": "[encoded data removed]",
      "text/plain": [
       "<Figure size 258x129 with 1 Axes>"
      ]
     },
     "metadata": {},
     "output_type": "display_data"
    },
    {
     "name": "stdout",
     "output_type": "stream",
     "text": [
      "[[0.5        0.5        0.5        0.5        0.5        0.5       ]\n",
      " [0.5        0.5        0.5        0.52941176 0.58823529 0.64705882]\n",
      " [0.70588235 0.76470588 0.82352941 0.88235294 0.94117647 1.        ]]\n"
     ]
    },
    {
     "data": {
      "image/png": "[encoded data removed]",
      "text/plain": [
       "<Figure size 258x129 with 1 Axes>"
      ]
     },
     "metadata": {},
     "output_type": "display_data"
    }
   ],
   "source": [
    "Z1 = np.linspace(0,1,rows*cols).reshape(rows,cols)\n",
    "show_array(Z1)\n",
    "Z2 = np.maximum(Z1, 0.5)\n",
    "show_array(Z2)"
   ]
  },
  {
   "cell_type": "code",
   "execution_count": 58,
   "metadata": {},
   "outputs": [
    {
     "name": "stdout",
     "output_type": "stream",
     "text": [
      "[[0.         0.05882353 0.11764706 0.17647059 0.23529412 0.29411765]\n",
      " [0.35294118 0.41176471 0.47058824 0.52941176 0.58823529 0.64705882]\n",
      " [0.70588235 0.76470588 0.82352941 0.88235294 0.94117647 1.        ]]\n"
     ]
    },
    {
     "data": {
      "image/png": "[encoded data removed]",
      "text/plain": [
       "<Figure size 258x129 with 1 Axes>"
      ]
     },
     "metadata": {},
     "output_type": "display_data"
    },
    {
     "name": "stdout",
     "output_type": "stream",
     "text": [
      "[[0.         0.05882353 0.11764706 0.17647059 0.23529412 0.29411765]\n",
      " [0.35294118 0.41176471 0.47058824 0.5        0.5        0.5       ]\n",
      " [0.5        0.5        0.5        0.5        0.5        0.5       ]]\n"
     ]
    },
    {
     "data": {
      "image/png": "[encoded data removed]",
      "text/plain": [
       "<Figure size 258x129 with 1 Axes>"
      ]
     },
     "metadata": {},
     "output_type": "display_data"
    }
   ],
   "source": [
    "Z1 = np.linspace(0,1,rows*cols).reshape(rows,cols)\n",
    "show_array(Z1)\n",
    "Z2 = np.minimum(Z1, 0.5)\n",
    "show_array(Z2)"
   ]
  },
  {
   "cell_type": "code",
   "execution_count": 59,
   "metadata": {},
   "outputs": [
    {
     "name": "stdout",
     "output_type": "stream",
     "text": [
      "[[0.         0.05882353 0.11764706 0.17647059 0.23529412 0.29411765]\n",
      " [0.35294118 0.41176471 0.47058824 0.52941176 0.58823529 0.64705882]\n",
      " [0.70588235 0.76470588 0.82352941 0.88235294 0.94117647 1.        ]]\n"
     ]
    },
    {
     "data": {
      "image/png": "[encoded data removed]",
      "text/plain": [
       "<Figure size 258x129 with 1 Axes>"
      ]
     },
     "metadata": {},
     "output_type": "display_data"
    },
    {
     "name": "stdout",
     "output_type": "stream",
     "text": [
      "[[1.05882353 1.23529412 1.41176471 1.58823529 1.76470588 1.94117647]]\n"
     ]
    },
    {
     "data": {
      "image/png": "[encoded data removed]",
      "text/plain": [
       "<Figure size 258x43 with 1 Axes>"
      ]
     },
     "metadata": {},
     "output_type": "display_data"
    }
   ],
   "source": [
    "Z1 = np.linspace(0,1,rows*cols).reshape(rows,cols)\n",
    "show_array(Z1)\n",
    "Z2 = Z1.sum(axis=0)\n",
    "show_array(Z2)"
   ]
  },
  {
   "cell_type": "code",
   "execution_count": 60,
   "metadata": {},
   "outputs": [
    {
     "name": "stdout",
     "output_type": "stream",
     "text": [
      "[[0.         0.05882353 0.11764706 0.17647059 0.23529412 0.29411765]\n",
      " [0.35294118 0.41176471 0.47058824 0.52941176 0.58823529 0.64705882]\n",
      " [0.70588235 0.76470588 0.82352941 0.88235294 0.94117647 1.        ]]\n"
     ]
    },
    {
     "data": {
      "image/png": "[encoded data removed]",
      "text/plain": [
       "<Figure size 258x129 with 1 Axes>"
      ]
     },
     "metadata": {},
     "output_type": "display_data"
    },
    {
     "name": "stdout",
     "output_type": "stream",
     "text": [
      "[[0.88235294]\n",
      " [3.        ]\n",
      " [5.11764706]]\n"
     ]
    },
    {
     "data": {
      "image/png": "[encoded data removed]",
      "text/plain": [
       "<Figure size 43x129 with 1 Axes>"
      ]
     },
     "metadata": {},
     "output_type": "display_data"
    }
   ],
   "source": [
    "Z1 = np.linspace(0,1,rows*cols).reshape(rows,cols)\n",
    "show_array(Z1)\n",
    "Z2 = Z1.sum(axis=1)\n",
    "Z2 = Z2.reshape(3,1)\n",
    "#Z2 = Z1.sum()\n",
    "show_array(Z2)"
   ]
  }
 ],
 "metadata": {
  "kernelspec": {
   "display_name": "Python 3",
   "language": "python",
   "name": "python3"
  },
  "language_info": {
   "codemirror_mode": {
    "name": "ipython",
    "version": 3
   },
   "file_extension": ".py",
   "mimetype": "text/x-python",
   "name": "python",
   "nbconvert_exporter": "python",
   "pygments_lexer": "ipython3",
   "version": "3.12.0"
  }
 },
 "nbformat": 4,
 "nbformat_minor": 2
}
